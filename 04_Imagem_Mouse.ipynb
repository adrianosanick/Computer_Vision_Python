{
 "cells": [
  {
   "cell_type": "markdown",
   "metadata": {},
   "source": [
    "# Desenho direto com o mouse\n",
    "## Utilizar o script para executar\n",
    "\n",
    "**NOTA: Se executar no notebook, para finalizar utilize *RESTART THE KERNEL***"
   ]
  },
  {
   "cell_type": "markdown",
   "metadata": {},
   "source": [
    "## SCRIPT 1: Conectando uma Função (Evento) para Desenhar# "
   ]
  },
  {
   "cell_type": "code",
   "execution_count": null,
   "metadata": {},
   "outputs": [],
   "source": [
    "import cv2\n",
    "import numpy as np\n",
    "\n",
    "# Criar uma função baseada no evento (click botao esquerdo do mouse)\n",
    "def draw_circle(event,x,y,flags,param):\n",
    "    if event == cv2.EVENT_LBUTTONDOWN:\n",
    "        cv2.circle(img,(x,y),50,(0,255,0),-1)\n",
    "\n",
    "# Criar uma imagem *toda preta\n",
    "img = np.zeros((512,512,3),np.int8)\n",
    "\n",
    "# Nomear a janela para que possamos referenciá-la\n",
    "cv2.namedWindow(winname='my_drawing')\n",
    "\n",
    "# Conecta o botão do mouse a chamada da função\n",
    "cv2.setMouseCallback('my_drawing',draw_circle)\n",
    "\n",
    "while True: \n",
    "    #Mostra a imagem\n",
    "    cv2.imshow('my_drawing',img)\n",
    "    \n",
    "    #Roda até o Restart *notebook ou até o break pressionando ESC *script\n",
    "    if cv2.waitKey(20) & 0xFF == 27:\n",
    "        break\n",
    "    \n",
    "    # Uma vez que o script esteja pronto, é geralmente uma boa prática chamar essa linha\n",
    "    # Fecha todas as janelas (caso você tenha várias janelas )\n",
    "cv2.destroyAllWindows()"
   ]
  },
  {
   "cell_type": "markdown",
   "metadata": {},
   "source": [
    "## SCRIPT 2: Adicionando funcionalidade com opções de eventos"
   ]
  },
  {
   "cell_type": "code",
   "execution_count": null,
   "metadata": {},
   "outputs": [],
   "source": [
    "import cv2\n",
    "import numpy as np\n",
    "\n",
    "# Criar uma função baseada no evento \n",
    "def draw_circle(event,x,y,flags,param):\n",
    "    if event == cv2.EVENT_LBUTTONDOWN:          #click botao esquerdo do mouse\n",
    "        cv2.circle(img,(x,y),50,(0,255,0),-1)\n",
    "    elif event == cv2.EVENT_RBUTTONDOWN: \n",
    "        cv2.circle(img,(x,y),50,(0,0,255),-1)   #click botao direito do mouse\n",
    "        \n",
    "\n",
    "# Criar uma imagem *toda preta\n",
    "img = np.zeros((512,512,3),np.int8)\n",
    "\n",
    "# Nomear a janela para que possamos referenciá-la\n",
    "cv2.namedWindow(winname='my_drawing')\n",
    "\n",
    "# Conecta o botão do mouse a chamada da função\n",
    "cv2.setMouseCallback('my_drawing',draw_circle)\n",
    "\n",
    "while True: \n",
    "    #Mostra a imagem\n",
    "    cv2.imshow('my_drawing',img)\n",
    "    \n",
    "    #Roda até o Restart *notebook ou até o break pressionando ESC *script\n",
    "    if cv2.waitKey(20) & 0xFF == 27:\n",
    "        break\n",
    "    \n",
    "    # Uma vez que o script esteja pronto, é geralmente uma boa prática chamar essa linha\n",
    "    # Fecha todas as janelas (caso você tenha várias janelas )\n",
    "cv2.destroyAllWindows()"
   ]
  },
  {
   "cell_type": "markdown",
   "metadata": {},
   "source": [
    "## SCRIPT 3: Arrastando com mouse"
   ]
  },
  {
   "cell_type": "code",
   "execution_count": null,
   "metadata": {},
   "outputs": [],
   "source": [
    "import cv2\n",
    "import numpy as np\n",
    "\n",
    "# Criar uma função baseada no evento \n",
    "drawing = False # True if mouse is pressed\n",
    "ix,iy = -1,-1\n",
    "\n",
    "\n",
    "#função de retorno de chamada do mouse\n",
    "def draw_rectangle(event,x,y,flags,param):\n",
    "    global ix,iy,drawing,mode\n",
    "    \n",
    "    if event == cv2.EVENT_LBUTTONDOWN:  #Denfindo que o botão foi pressionado\n",
    "        drawing = True\n",
    "        \n",
    "        # Verificamos onde o botão do mouse foi pressionado\n",
    "        ix,iy = x,y\n",
    "        \n",
    "    elif event == cv2.EVENT_MOUSEMOVE: # O mouse se movendo\n",
    "        if drawing == True:            # O botão foi pressionado na posição anterior ix,iy     \n",
    "            \n",
    "            cv2.rectangle(img,(ix,iy),(x,y),(0,255,0),-1)\n",
    "    \n",
    "    elif event == cv2.EVENT_LBUTTONUP:  #Denfindo que o botão foi solto\n",
    "        drawing = False\n",
    "        \n",
    "        # Retângulo completo\n",
    "        cv2.rectangle(img,(ix,iy),(x,y),(0,255,0),-1)\n",
    "        \n",
    "        \n",
    "\n",
    "# Criar uma imagem\n",
    "img = np.zeros((512,512,3), np.int8)\n",
    "# Nomear a janela\n",
    "cv2.namedWindow(winname='my_drawing')\n",
    "\n",
    "# Conectar o evento com a janela\n",
    "cv2.setMouseCallback('my_drawing',draw_rectangle)\n",
    "\n",
    "\n",
    "while True: \n",
    "    #Mostra a imagem\n",
    "    cv2.imshow('my_drawing',img)\n",
    "    \n",
    "    #Roda até o Restart *notebook ou até o break pressionando ESC *script\n",
    "    if cv2.waitKey(20) & 0xFF == 27:\n",
    "        break\n",
    "    \n",
    "    # Uma vez que o script esteja pronto, é geralmente uma boa prática chamar essa linha\n",
    "    # Fecha todas as janelas (caso você tenha várias janelas )\n",
    "cv2.destroyAllWindows()\n",
    "\n"
   ]
  },
  {
   "cell_type": "code",
   "execution_count": null,
   "metadata": {},
   "outputs": [],
   "source": []
  }
 ],
 "metadata": {
  "kernelspec": {
   "display_name": "Python 3",
   "language": "python",
   "name": "python3"
  },
  "language_info": {
   "codemirror_mode": {
    "name": "ipython",
    "version": 3
   },
   "file_extension": ".py",
   "mimetype": "text/x-python",
   "name": "python",
   "nbconvert_exporter": "python",
   "pygments_lexer": "ipython3",
   "version": "3.7.3"
  }
 },
 "nbformat": 4,
 "nbformat_minor": 2
}
