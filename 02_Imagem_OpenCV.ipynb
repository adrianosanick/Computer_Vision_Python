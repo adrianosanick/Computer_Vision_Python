{
 "cells": [
  {
   "cell_type": "markdown",
   "metadata": {},
   "source": [
    "# Abrindo uma imagen com OpenCV\n",
    "\n",
    "**EXECUTAR ESTA CÉLULA MATARÁ O KERNEL SE VOCÊ USAR JUPYTER DIRETAMENTE**\n",
    "\n",
    "Leia a explicação no README!"
   ]
  },
  {
   "cell_type": "code",
   "execution_count": 2,
   "metadata": {},
   "outputs": [
    {
     "data": {
      "text/plain": [
       "225"
      ]
     },
     "execution_count": 2,
     "metadata": {},
     "output_type": "execute_result"
    }
   ],
   "source": [
    "import cv2\n",
    "\n",
    "img= cv2.imread('animals/00_Connie.jpg',cv2.IMREAD_GRAYSCALE)\n",
    "\n",
    "cv2.imshow('window_name',img) #MOSTRAR A IMAGEM COM A OPENCV\n",
    "\n",
    "cv2.waitKey()"
   ]
  }
 ],
 "metadata": {
  "kernelspec": {
   "display_name": "Python 3",
   "language": "python",
   "name": "python3"
  },
  "language_info": {
   "codemirror_mode": {
    "name": "ipython",
    "version": 3
   },
   "file_extension": ".py",
   "mimetype": "text/x-python",
   "name": "python",
   "nbconvert_exporter": "python",
   "pygments_lexer": "ipython3",
   "version": "3.7.3"
  }
 },
 "nbformat": 4,
 "nbformat_minor": 2
}
